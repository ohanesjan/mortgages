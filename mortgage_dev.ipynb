{
 "cells": [
  {
   "cell_type": "code",
   "execution_count": 3,
   "outputs": [],
   "source": [
    "#import os\n",
    "#cwd = os.getcwd()\n",
    "#import sys\n",
    "#sys.path.append(cwd)\n",
    "\n",
    "#Jupyter notebook has to be opened from the mortgages directory\n",
    "import matplotlib.pyplot as plt\n",
    "import numpy as np\n",
    "import pandas as pd\n",
    "\n",
    "import requests\n",
    "import io\n",
    "import datetime\n",
    "from data_processor import *\n"
   ],
   "metadata": {
    "collapsed": false,
    "pycharm": {
     "name": "#%%\n"
    }
   }
  },
  {
   "cell_type": "code",
   "execution_count": 30,
   "outputs": [],
   "source": [
    "\n",
    "#Input Parameters\n",
    "\n",
    "#Loan contract date (year,month and day) (date loan is signed)\n",
    "loan_year=1995\n",
    "loan_month=5\n",
    "loan_day=1\n",
    "\n",
    "#Loan repayment period in months\n",
    "loan_maturity_m=360\n",
    "\n",
    "#Amount of th loan\n",
    "loan_amount=50000\n",
    "\n",
    "\n",
    "#Fixed interest rate period in months\n",
    "interest_fixed_period=5*12\n",
    "\n",
    "#Fixed interest rate in %\n",
    "#interest_fixed_pc=4.2\n",
    "interest_fixed_pc=3.3\n",
    "#Basis Variable interest rate in % (this is the base and additiona interest is added, like EURIBOR)\n",
    "#interest_var_base_pc=5.7+3.311\n",
    "interest_var_base_pc=8\n",
    "\n",
    "\n",
    "#Variable interest period\n",
    "interest_var_period=loan_maturity_m-interest_fixed_period\n",
    "\n",
    "\n",
    "interest_fixed=interest_fixed_pc/100\n",
    "interest_var_base=interest_var_base_pc/100\n",
    "\n"
   ],
   "metadata": {
    "collapsed": false,
    "pycharm": {
     "name": "#%%\n"
    }
   }
  },
  {
   "cell_type": "code",
   "execution_count": 31,
   "outputs": [],
   "source": [
    "#Analysing repayments\n",
    "\n",
    "# List with payment months\n",
    "time_m=np.arange(1,loan_maturity_m+1,1)\n",
    "\n",
    "#Principal repayment per month\n",
    "principal_payment_m=np.full(loan_maturity_m,loan_amount/loan_maturity_m)\n",
    "\n",
    "#Outstanding principal per month; flip reverses the order\n",
    "principal_comm_m= np.flip(np.cumsum(principal_payment_m))\n",
    "\n",
    "\n",
    "#Periods of fixed and variable interest rates\n",
    "interest_rate_fixed_m=np.full(interest_fixed_period,interest_fixed)\n",
    "interest_rate_var_m=np.full(interest_var_period,interest_var_base)\n",
    "\n",
    "#Interest rate per month\n",
    "interest_rate_m=np.concatenate((interest_rate_fixed_m,interest_rate_var_m),axis=0)\n",
    "\n",
    "#--------------------------------------------------------------------------------------\n",
    "\n",
    "#Monthly interest payment. Outstending ammount * annual interest / 12\n",
    "#Separate lists for fixed interest period and variable interest period\n",
    "interest_payment_fixed_m=np.multiply(principal_comm_m[0:interest_fixed_period],interest_rate_fixed_m)/12\n",
    "interest_payment_var_m=np.multiply(principal_comm_m[interest_fixed_period:],interest_rate_var_m)/12\n",
    "\n",
    "#Monthly interest payment, where interest of the fixed period is equailly ditributed over the fixed period\n",
    "#Same as interest_payment_fixed_m but montly interest is constant throughout (total interest / number of fixed interest months)\n",
    "interest_payment_fixed_flat_m=np.full(interest_fixed_period,np.sum(interest_payment_fixed_m)/interest_fixed_period)\n",
    "\n",
    "\n",
    "interest_payment_m=np.concatenate((interest_payment_fixed_m,interest_payment_var_m),axis=0)\n",
    "interest_payment_flat_m=np.concatenate((interest_payment_fixed_flat_m,interest_payment_var_m),axis=0)\n",
    "\n",
    "# Total monthly payment\n",
    "total_payment_m=principal_payment_m+interest_payment_m\n",
    "total_payment_flat_m=principal_payment_m+interest_payment_flat_m\n",
    "\n",
    "#Cummulative amount of payed interests (how much interest has been payed by a given month)\n",
    "interest_repayd_m=np.cumsum(interest_payment_m)\n",
    "interest_repayd_flat_m=np.cumsum(interest_payment_flat_m)"
   ],
   "metadata": {
    "collapsed": false,
    "pycharm": {
     "name": "#%%\n"
    }
   }
  },
  {
   "cell_type": "code",
   "execution_count": 32,
   "outputs": [
    {
     "data": {
      "text/plain": "([<matplotlib.axis.XTick at 0x7f6b75640c70>,\n  <matplotlib.axis.XTick at 0x7f6b75640d00>,\n  <matplotlib.axis.XTick at 0x7f6b756438e0>,\n  <matplotlib.axis.XTick at 0x7f6b75644d30>,\n  <matplotlib.axis.XTick at 0x7f6b75644430>,\n  <matplotlib.axis.XTick at 0x7f6b75645b10>,\n  <matplotlib.axis.XTick at 0x7f6b75646e60>],\n [Text(0, 0, '0'),\n  Text(60, 0, '5'),\n  Text(120, 0, '10'),\n  Text(180, 0, '15'),\n  Text(240, 0, '20'),\n  Text(300, 0, '25'),\n  Text(360, 0, '30')])"
     },
     "execution_count": 32,
     "metadata": {},
     "output_type": "execute_result"
    },
    {
     "data": {
      "text/plain": "<Figure size 640x480 with 1 Axes>",
      "image/png": "[encoded data removed]"
     },
     "metadata": {},
     "output_type": "display_data"
    }
   ],
   "source": [
    "plt.plot(time_m,principal_payment_m,label='principle')\n",
    "#plt.plot(time_m,interest_payment_m,label='interest')\n",
    "#plt.plot(time_m,total_payment_m,label='linear')\n",
    "plt.plot(time_m,total_payment_flat_m,label='total')\n",
    "plt.fill_between(time_m,total_payment_flat_m,principal_payment_m,color='gray',alpha=0.5)\n",
    "plt.legend()\n",
    "#plt.xlabel('Mesec')\n",
    "#plt.ylabel('Mesecna rata (MKD)')\n",
    "plt.ylabel('Monthly installment (\\N{euro sign})')\n",
    "#plt.xlabel('godina')\n",
    "\n",
    "plt.xlabel('years')\n",
    "plt.xticks(np.arange(0,loan_maturity_m+1,5*12),np.arange(0,loan_maturity_m/(5*12)+1,dtype=int)*5)\n",
    "#plt.savefig('card_1y.png')"
   ],
   "metadata": {
    "collapsed": false,
    "pycharm": {
     "name": "#%%\n"
    }
   }
  },
  {
   "cell_type": "code",
   "execution_count": 33,
   "outputs": [
    {
     "data": {
      "text/plain": "151.54513888888977"
     },
     "execution_count": 33,
     "metadata": {},
     "output_type": "execute_result"
    }
   ],
   "source": [
    "total_payment_flat_m.max()- total_payment_flat_m[1]"
   ],
   "metadata": {
    "collapsed": false,
    "pycharm": {
     "name": "#%%\n"
    }
   }
  },
  {
   "cell_type": "code",
   "execution_count": 27,
   "outputs": [
    {
     "data": {
      "text/plain": "577.7777777777761"
     },
     "execution_count": 27,
     "metadata": {},
     "output_type": "execute_result"
    }
   ],
   "source": [
    "total_payment_flat_m.max()\n"
   ],
   "metadata": {
    "collapsed": false,
    "pycharm": {
     "name": "#%%\n"
    }
   }
  },
  {
   "cell_type": "code",
   "execution_count": 28,
   "outputs": [
    {
     "data": {
      "text/plain": "22036.66666666652"
     },
     "execution_count": 28,
     "metadata": {},
     "output_type": "execute_result"
    }
   ],
   "source": [
    "np.sum(interest_payment_fixed_m)"
   ],
   "metadata": {
    "collapsed": false,
    "pycharm": {
     "name": "#%%\n"
    }
   }
  },
  {
   "cell_type": "code",
   "execution_count": 29,
   "outputs": [
    {
     "data": {
      "text/plain": "26666.666666666668"
     },
     "execution_count": 29,
     "metadata": {},
     "output_type": "execute_result"
    }
   ],
   "source": [
    "(loan_amount/loan_maturity_m) *interest_fixed_period"
   ],
   "metadata": {
    "collapsed": false,
    "pycharm": {
     "name": "#%%\n"
    }
   }
  },
  {
   "cell_type": "code",
   "execution_count": 13,
   "outputs": [],
   "source": [
    "#Euribor 1-year\n",
    "\n",
    "# Building blocks for the URL\n",
    "entrypoint = 'https://sdw-wsrest.ecb.europa.eu/service/' # Using protocol 'https'\n",
    "resource = 'data'           # The resource for data queries is always'data'\n",
    "flowRef ='FM'              # Dataflow describing the data that needs to be returned, exchange rates in this case\n",
    "key = 'M.U2.EUR.RT.MM.EURIBOR6MD_.HSTA'    # Defining the dimension values, explained below\n",
    "\n",
    "# Define the parameters\n",
    "parameters = {\n",
    "    'startPeriod': '1995-01-01',  # Start date of the time series\n",
    "    #'endPeriod': '2018-10-01'     # End of the time series\n",
    "    'endPeriod': '2023-01-01'     # End of the time series\n",
    "}\n",
    "# Construct the URL: https://sdw-wsrest.ecb.europa.eu/service/data/EXR/D.CHF.EUR.SP00.A\n",
    "request_url = entrypoint + resource + '/'+ flowRef + '/' + key"
   ],
   "metadata": {
    "collapsed": false,
    "pycharm": {
     "name": "#%%\n"
    }
   }
  },
  {
   "cell_type": "code",
   "execution_count": 19,
   "outputs": [
    {
     "name": "stdout",
     "output_type": "stream",
     "text": [
      "Successfully retrieved data\n",
      "<class 'pandas.core.frame.DataFrame'>\n",
      "DatetimeIndex: 336 entries, 1995-01-01 to 2022-12-01\n",
      "Data columns (total 1 columns):\n",
      " #   Column     Non-Null Count  Dtype  \n",
      "---  ------     --------------  -----  \n",
      " 0   OBS_VALUE  336 non-null    float64\n",
      "dtypes: float64(1)\n",
      "memory usage: 5.2 KB\n"
     ]
    },
    {
     "data": {
      "text/plain": "<Figure size 640x480 with 1 Axes>",
      "image/png": "[encoded data removed]"
     },
     "metadata": {},
     "output_type": "display_data"
    }
   ],
   "source": [
    "dft=df_time_ecb(request_url,parameters,1)\n",
    "\n",
    "dft.info()\n",
    "\n",
    "plt.plot(dft)\n",
    "plt.show()"
   ],
   "metadata": {
    "collapsed": false,
    "pycharm": {
     "name": "#%%\n"
    }
   }
  },
  {
   "cell_type": "code",
   "execution_count": 41,
   "outputs": [
    {
     "name": "stdout",
     "output_type": "stream",
     "text": [
      "FM/M.U2.EUR.RT.MM.EURIBOR1YD_.HSTA\n"
     ]
    }
   ],
   "source": [
    "ECBkeys= {\n",
    "    'euribor1m' : 'FM/M.U2.EUR.RT.MM.EURIBOR1MD_.HSTA',\n",
    "    'euribor3m' : 'FM/M.U2.EUR.RT.MM.EURIBOR3MD_.HSTA',\n",
    "    'euribor6m' : 'FM/M.U2.EUR.RT.MM.EURIBOR6MD_.HSTA',\n",
    "    'euribor1y' : 'FM/M.U2.EUR.RT.MM.EURIBOR1YD_.HSTA'\n",
    "}\n",
    "\n",
    "if 'euribor1y' in ECBkeys.keys():\n",
    "    print(ECBkeys['euribor1y'])"
   ],
   "metadata": {
    "collapsed": false,
    "pycharm": {
     "name": "#%%\n"
    }
   }
  },
  {
   "cell_type": "code",
   "execution_count": 21,
   "outputs": [
    {
     "name": "stdout",
     "output_type": "stream",
     "text": [
      "Successfully retrieved data\n",
      "Successfully retrieved data\n"
     ]
    },
    {
     "data": {
      "text/plain": "<Figure size 640x480 with 1 Axes>",
      "image/png": "[encoded data removed]"
     },
     "metadata": {},
     "output_type": "display_data"
    }
   ],
   "source": [
    "plt.plot(df_time_ecb( entrypoint + resource + '/'+ ECBkeys['euribor1m'],parameters,1))\n",
    "plt.plot(df_time_ecb( entrypoint + resource + '/'+ ECBkeys['euribor1y'],parameters,1))\n",
    "plt.show()"
   ],
   "metadata": {
    "collapsed": false,
    "pycharm": {
     "name": "#%%\n"
    }
   }
  },
  {
   "cell_type": "code",
   "execution_count": 44,
   "outputs": [
    {
     "name": "stdout",
     "output_type": "stream",
     "text": [
      "Successfully retrieved data\n"
     ]
    }
   ],
   "source": [
    "dftest=df_time_ecb( entrypoint + resource + '/'+ ECBkeys['euribor1y'],parameters,tindex=1)\n",
    "#dftest=df_time_ecb( 'euribor1y',parameters,tindex=1)\n"
   ],
   "metadata": {
    "collapsed": false,
    "pycharm": {
     "name": "#%%\n"
    }
   }
  },
  {
   "cell_type": "code",
   "execution_count": 45,
   "outputs": [
    {
     "data": {
      "text/plain": "             OBS_VALUE\nTIME_PERIOD           \n1995-05-01        7.25\n1995-06-01        7.24\n1995-07-01        7.16\n1995-08-01        6.83\n1995-09-01        6.59",
      "text/html": "<div>\n<style scoped>\n    .dataframe tbody tr th:only-of-type {\n        vertical-align: middle;\n    }\n\n    .dataframe tbody tr th {\n        vertical-align: top;\n    }\n\n    .dataframe thead th {\n        text-align: right;\n    }\n</style>\n<table border=\"1\" class=\"dataframe\">\n  <thead>\n    <tr style=\"text-align: right;\">\n      <th></th>\n      <th>OBS_VALUE</th>\n    </tr>\n    <tr>\n      <th>TIME_PERIOD</th>\n      <th></th>\n    </tr>\n  </thead>\n  <tbody>\n    <tr>\n      <th>1995-05-01</th>\n      <td>7.25</td>\n    </tr>\n    <tr>\n      <th>1995-06-01</th>\n      <td>7.24</td>\n    </tr>\n    <tr>\n      <th>1995-07-01</th>\n      <td>7.16</td>\n    </tr>\n    <tr>\n      <th>1995-08-01</th>\n      <td>6.83</td>\n    </tr>\n    <tr>\n      <th>1995-09-01</th>\n      <td>6.59</td>\n    </tr>\n  </tbody>\n</table>\n</div>"
     },
     "execution_count": 45,
     "metadata": {},
     "output_type": "execute_result"
    }
   ],
   "source": [
    "dftest.head()\n"
   ],
   "metadata": {
    "collapsed": false,
    "pycharm": {
     "name": "#%%\n"
    }
   }
  },
  {
   "cell_type": "code",
   "execution_count": 16,
   "outputs": [
    {
     "data": {
      "text/plain": "             OBS_VALUE\nTIME_PERIOD           \n1995-06-01        7.24\n1995-07-01        7.16\n1995-08-01        6.83",
      "text/html": "<div>\n<style scoped>\n    .dataframe tbody tr th:only-of-type {\n        vertical-align: middle;\n    }\n\n    .dataframe tbody tr th {\n        vertical-align: top;\n    }\n\n    .dataframe thead th {\n        text-align: right;\n    }\n</style>\n<table border=\"1\" class=\"dataframe\">\n  <thead>\n    <tr style=\"text-align: right;\">\n      <th></th>\n      <th>OBS_VALUE</th>\n    </tr>\n    <tr>\n      <th>TIME_PERIOD</th>\n      <th></th>\n    </tr>\n  </thead>\n  <tbody>\n    <tr>\n      <th>1995-06-01</th>\n      <td>7.24</td>\n    </tr>\n    <tr>\n      <th>1995-07-01</th>\n      <td>7.16</td>\n    </tr>\n    <tr>\n      <th>1995-08-01</th>\n      <td>6.83</td>\n    </tr>\n  </tbody>\n</table>\n</div>"
     },
     "execution_count": 16,
     "metadata": {},
     "output_type": "execute_result"
    }
   ],
   "source": [
    "dftest[datetime.date(year=1995,month=6,day=1):datetime.date(year=1995,month=8,day=1)]"
   ],
   "metadata": {
    "collapsed": false,
    "pycharm": {
     "name": "#%%\n"
    }
   }
  },
  {
   "cell_type": "code",
   "execution_count": 17,
   "outputs": [
    {
     "ename": "NameError",
     "evalue": "name 'dtype' is not defined",
     "output_type": "error",
     "traceback": [
      "\u001B[0;31m---------------------------------------------------------------------------\u001B[0m",
      "\u001B[0;31mNameError\u001B[0m                                 Traceback (most recent call last)",
      "Cell \u001B[0;32mIn[17], line 1\u001B[0m\n\u001B[0;32m----> 1\u001B[0m \u001B[43mdtype\u001B[49m(datetime\u001B[38;5;241m.\u001B[39mdate(year\u001B[38;5;241m=\u001B[39m\u001B[38;5;241m1995\u001B[39m,month\u001B[38;5;241m=\u001B[39m\u001B[38;5;241m6\u001B[39m,day\u001B[38;5;241m=\u001B[39m\u001B[38;5;241m1\u001B[39m))\n",
      "\u001B[0;31mNameError\u001B[0m: name 'dtype' is not defined"
     ]
    }
   ],
   "source": [
    "dtype(datetime.date(year=1995,month=6,day=1))"
   ],
   "metadata": {
    "collapsed": false,
    "pycharm": {
     "name": "#%%\n"
    }
   }
  },
  {
   "cell_type": "code",
   "execution_count": 8,
   "outputs": [
    {
     "ename": "SyntaxError",
     "evalue": "incomplete input (3444084823.py, line 2)",
     "output_type": "error",
     "traceback": [
      "\u001B[0;36m  Cell \u001B[0;32mIn[8], line 2\u001B[0;36m\u001B[0m\n\u001B[0;31m    print(datetime.date(year=1995,month=6,day=1)+datetime.timedelta(month=1)\u001B[0m\n\u001B[0m                                                                            ^\u001B[0m\n\u001B[0;31mSyntaxError\u001B[0m\u001B[0;31m:\u001B[0m incomplete input\n"
     ]
    }
   ],
   "source": [
    "print(datetime.date(year=1995,month=6,day=1))\n",
    "print(datetime.date(year=1995,month=6,day=1)+datetime.timedelta(month=1)"
   ],
   "metadata": {
    "collapsed": false,
    "pycharm": {
     "name": "#%%\n"
    }
   }
  },
  {
   "cell_type": "code",
   "execution_count": 10,
   "outputs": [],
   "source": [
    "#Function to get next month form a given date\n",
    "def get_next_month(date):\n",
    "    month = (date.month % 12) + 1\n",
    "    year = date.year + (date.month + 1 > 12)\n",
    "    return datetime.datetime(year, month, 1)\n"
   ],
   "metadata": {
    "collapsed": false,
    "pycharm": {
     "name": "#%%\n"
    }
   }
  },
  {
   "cell_type": "code",
   "execution_count": 13,
   "outputs": [
    {
     "name": "stdout",
     "output_type": "stream",
     "text": [
      "1995-07-01 00:00:00\n"
     ]
    }
   ],
   "source": [
    "print(get_next_month(datetime.date(year=1995,month=6,day=1)))"
   ],
   "metadata": {
    "collapsed": false,
    "pycharm": {
     "name": "#%%\n"
    }
   }
  },
  {
   "cell_type": "code",
   "execution_count": 24,
   "outputs": [],
   "source": [
    "datetest=datetime.date(year=1995,month=6,day=1)\n",
    "datetestday=datetime.date(year=1995,month=6,day=2)\n",
    "datetestnext=get_next_month(datetime.date(year=1995,month=6,day=1))\n"
   ],
   "metadata": {
    "collapsed": false,
    "pycharm": {
     "name": "#%%\n"
    }
   }
  },
  {
   "cell_type": "code",
   "execution_count": 15,
   "outputs": [
    {
     "name": "stdout",
     "output_type": "stream",
     "text": [
      "1995-06-01 1995-07-01 00:00:00\n"
     ]
    }
   ],
   "source": [
    "print(datetest,datetestnext)"
   ],
   "metadata": {
    "collapsed": false,
    "pycharm": {
     "name": "#%%\n"
    }
   }
  },
  {
   "cell_type": "code",
   "execution_count": 27,
   "outputs": [
    {
     "data": {
      "text/plain": "             OBS_VALUE\nTIME_PERIOD           \n1995-06-01        7.24\n1995-07-01        7.16",
      "text/html": "<div>\n<style scoped>\n    .dataframe tbody tr th:only-of-type {\n        vertical-align: middle;\n    }\n\n    .dataframe tbody tr th {\n        vertical-align: top;\n    }\n\n    .dataframe thead th {\n        text-align: right;\n    }\n</style>\n<table border=\"1\" class=\"dataframe\">\n  <thead>\n    <tr style=\"text-align: right;\">\n      <th></th>\n      <th>OBS_VALUE</th>\n    </tr>\n    <tr>\n      <th>TIME_PERIOD</th>\n      <th></th>\n    </tr>\n  </thead>\n  <tbody>\n    <tr>\n      <th>1995-06-01</th>\n      <td>7.24</td>\n    </tr>\n    <tr>\n      <th>1995-07-01</th>\n      <td>7.16</td>\n    </tr>\n  </tbody>\n</table>\n</div>"
     },
     "execution_count": 27,
     "metadata": {},
     "output_type": "execute_result"
    }
   ],
   "source": [
    "dftest[datetest:datetestnext]"
   ],
   "metadata": {
    "collapsed": false,
    "pycharm": {
     "name": "#%%\n"
    }
   }
  },
  {
   "cell_type": "code",
   "execution_count": 40,
   "outputs": [],
   "source": [
    "payment_dates=np.arange('1995-02-01','1995-06-01',dtype='datetime64[M]')\n",
    "\n"
   ],
   "metadata": {
    "collapsed": false,
    "pycharm": {
     "name": "#%%\n"
    }
   }
  },
  {
   "cell_type": "code",
   "execution_count": 50,
   "outputs": [
    {
     "data": {
      "text/plain": "             OBS_VALUE\nTIME_PERIOD           \n1995-03-01        8.02",
      "text/html": "<div>\n<style scoped>\n    .dataframe tbody tr th:only-of-type {\n        vertical-align: middle;\n    }\n\n    .dataframe tbody tr th {\n        vertical-align: top;\n    }\n\n    .dataframe thead th {\n        text-align: right;\n    }\n</style>\n<table border=\"1\" class=\"dataframe\">\n  <thead>\n    <tr style=\"text-align: right;\">\n      <th></th>\n      <th>OBS_VALUE</th>\n    </tr>\n    <tr>\n      <th>TIME_PERIOD</th>\n      <th></th>\n    </tr>\n  </thead>\n  <tbody>\n    <tr>\n      <th>1995-03-01</th>\n      <td>8.02</td>\n    </tr>\n  </tbody>\n</table>\n</div>"
     },
     "execution_count": 50,
     "metadata": {},
     "output_type": "execute_result"
    }
   ],
   "source": [
    "pddatetest= pd.to_datetime(payment_dates[1])\n",
    "dftest[pddatetest:pddatetest]"
   ],
   "metadata": {
    "collapsed": false,
    "pycharm": {
     "name": "#%%\n"
    }
   }
  },
  {
   "cell_type": "code",
   "execution_count": 54,
   "outputs": [
    {
     "name": "stdout",
     "output_type": "stream",
     "text": [
      "1995-03\n",
      "1996-03\n",
      "2025-03\n"
     ]
    }
   ],
   "source": [
    "print(payment_dates[1])\n",
    "print(payment_dates[1]+np.timedelta64(12,'M'))\n",
    "print(payment_dates[1]+np.timedelta64(360,'M'))"
   ],
   "metadata": {
    "collapsed": false,
    "pycharm": {
     "name": "#%%\n"
    }
   }
  },
  {
   "cell_type": "code",
   "execution_count": 56,
   "outputs": [
    {
     "name": "stdout",
     "output_type": "stream",
     "text": [
      "1995-06-01\n"
     ]
    }
   ],
   "source": [
    "print(np.datetime64(datetest))"
   ],
   "metadata": {
    "collapsed": false,
    "pycharm": {
     "name": "#%%\n"
    }
   }
  },
  {
   "cell_type": "code",
   "execution_count": 9,
   "outputs": [
    {
     "name": "stdout",
     "output_type": "stream",
     "text": [
      "Loan taken on 1995-05-01 for a period of 120 months with last payment on 2005-05\n",
      "1996-05-01\n",
      "2005-05\n"
     ]
    }
   ],
   "source": [
    "#Loan contract date (year,month and day) (date loan is signed)\n",
    "loan_year=1995\n",
    "loan_month=5\n",
    "loan_day=1\n",
    "\n",
    "loan_date=datetime.date(year=loan_year,month=loan_month,day=loan_day)\n",
    "\n",
    "#loan_date=datetime.date(year=loan_year,month=loan_month)\n",
    "\n",
    "#it has to be converted in months type, with astype, so we can add months\n",
    "loan_date_np=np.datetime64(loan_date).astype('<M8[M]')\n",
    "#Loan repayment period in months\n",
    "loan_period_m=120\n",
    "\n",
    "#loan maturity date (Date of last payment assuming first payment is a month after loan contract concluded)\n",
    "loan_maturity_date_np=loan_date_np +np.timedelta64(loan_period_m,'M')\n",
    "\n",
    "#Fixed interest rate period in months\n",
    "interest_fixed_period=1*12\n",
    "#Date at wich fixed interest rate ends\n",
    "interest_fixed_date_np=loan_date_np +np.timedelta64(interest_fixed_period,'M')\n",
    "#First month with variable interest\n",
    "interest_var_date_np=loan_date_np +np.timedelta64(interest_fixed_period+1,'M')\n",
    "\n",
    "print(f'Loan taken on {loan_date} for a period of {loan_period_m} months. \\n'\n",
    "      +f' with last payment on {loan_maturity_date_np}')\n",
    "print(interest_fixed_date_np.astype('<M8[D]'))\n",
    "print(loan_maturity_date_np)"
   ],
   "metadata": {
    "collapsed": false,
    "pycharm": {
     "name": "#%%\n"
    }
   }
  },
  {
   "cell_type": "code",
   "execution_count": 68,
   "outputs": [
    {
     "name": "stdout",
     "output_type": "stream",
     "text": [
      "Successfully retrieved data\n",
      "Successfully retrieved data\n"
     ]
    }
   ],
   "source": [
    "parameters = {\n",
    "    'startPeriod': '1995-01-01',   # Start date of the time series\n",
    "    'endPeriod': '1995-10-01'     # End of the time series\n",
    "}\n",
    "df1=df_time_ecb( entrypoint + resource + '/'+ ECBkeys['euribor6m'],parameters,tindex=0)\n",
    "\n",
    "parameters = {\n",
    "        'startPeriod': '1995-11-01',   # Start date of the time series\n",
    "    'endPeriod': '1996-02-01'     # End of the time series\n",
    "}\n",
    "df2=df_time_ecb( entrypoint + resource + '/'+ ECBkeys['euribor6m'],parameters,tindex=0)"
   ],
   "metadata": {
    "collapsed": false,
    "pycharm": {
     "name": "#%%\n"
    }
   }
  },
  {
   "cell_type": "code",
   "execution_count": 70,
   "outputs": [
    {
     "name": "stdout",
     "output_type": "stream",
     "text": [
      "  TIME_PERIOD  OBS_VALUE          TIME_PERIOD  OBS_VALUE\n",
      "0  1995-01-01       7.06  1995-11-01 00:00:00       6.43\n",
      "1  1995-02-01       6.92  1995-12-01 00:00:00       6.26\n",
      "2  1995-03-01       7.74  1996-01-01 00:00:00       5.73\n",
      "3  1995-04-01       7.39                    0       0.00\n",
      "4  1995-05-01       7.09                    0       0.00\n",
      "5  1995-06-01       7.11                    0       0.00\n",
      "6  1995-07-01       6.99                    0       0.00\n",
      "7  1995-08-01       6.71                    0       0.00\n",
      "8  1995-09-01       6.54                    0       0.00\n"
     ]
    }
   ],
   "source": [
    "dflist=pd.DataFrame({'vals': np.array([0,1,3,5,7,1,2])})\n",
    "df3=pd.concat([df1,df2],axis=1).fillna(0)\n",
    "df3list=pd.concat([df1,dflist],axis=1)\n",
    "print(df3)"
   ],
   "metadata": {
    "collapsed": false,
    "pycharm": {
     "name": "#%%\n"
    }
   }
  },
  {
   "cell_type": "code",
   "execution_count": 29,
   "outputs": [
    {
     "name": "stdout",
     "output_type": "stream",
     "text": [
      "Successfully retrieved data\n"
     ]
    }
   ],
   "source": [
    "parameters = {\n",
    "    'startPeriod': loan_date_np, #'1995-01-01',  # Start date of the time series\n",
    "    #'endPeriod': '2018-10-01'     # End of the time series\n",
    "    'endPeriod': loan_maturity_date_np.astype('<M8[D]')     # End of the time series\n",
    "}\n",
    "dftest=df_time_ecb( entrypoint + resource + '/'+ ECBkeys['euribor6m'],parameters,tindex=1)"
   ],
   "metadata": {
    "collapsed": false,
    "pycharm": {
     "name": "#%%\n"
    }
   }
  },
  {
   "cell_type": "code",
   "execution_count": 30,
   "outputs": [],
   "source": [],
   "metadata": {
    "collapsed": false,
    "pycharm": {
     "name": "#%%\n"
    }
   }
  },
  {
   "cell_type": "code",
   "execution_count": 31,
   "outputs": [],
   "source": [
    "df_loantest=loan_analysis(amount=5000, first_date=np.datetime64('1995-05-01'), loan_period =24 ,fixed_period=12,\n",
    "                  fixed_interest=3.3, var_interest=3.3)"
   ],
   "metadata": {
    "collapsed": false,
    "pycharm": {
     "name": "#%%\n"
    }
   }
  },
  {
   "cell_type": "code",
   "execution_count": 34,
   "outputs": [
    {
     "data": {
      "text/plain": "[<matplotlib.lines.Line2D at 0x7f4d1997f5b0>]"
     },
     "execution_count": 34,
     "metadata": {},
     "output_type": "execute_result"
    },
    {
     "data": {
      "text/plain": "<Figure size 432x288 with 1 Axes>",
      "image/png": "[encoded data removed]"
     },
     "metadata": {
      "needs_background": "light"
     },
     "output_type": "display_data"
    }
   ],
   "source": [
    "plt.plot(df_loantest['principle'])"
   ],
   "metadata": {
    "collapsed": false,
    "pycharm": {
     "name": "#%%\n"
    }
   }
  },
  {
   "cell_type": "code",
   "execution_count": 71,
   "outputs": [
    {
     "data": {
      "text/plain": "float"
     },
     "execution_count": 71,
     "metadata": {},
     "output_type": "execute_result"
    }
   ],
   "source": [
    "type(2.2)\n",
    "\n"
   ],
   "metadata": {
    "collapsed": false,
    "pycharm": {
     "name": "#%%\n"
    }
   }
  },
  {
   "cell_type": "code",
   "execution_count": 6,
   "outputs": [],
   "source": [
    "df_loan_fixed=loan_analysis(amount=400000, first_date=np.datetime64('2020-02-01'), loan_period =360 ,fixed_period=30*12,\n",
    "                  fixed_interest=2.38, var_base_interest=0, var_interest=0)\n",
    "df_loan_fixed4d5=loan_analysis(amount=400000, first_date=np.datetime64('2020-02-01'), loan_period =360 ,fixed_period=30*12,\n",
    "                  fixed_interest=4.5, var_base_interest=0, var_interest=0)"
   ],
   "metadata": {
    "collapsed": false,
    "pycharm": {
     "name": "#%%\n"
    }
   }
  },
  {
   "cell_type": "code",
   "execution_count": 10,
   "outputs": [
    {
     "data": {
      "text/plain": "<matplotlib.legend.Legend at 0x7ff6a47695e0>"
     },
     "execution_count": 10,
     "metadata": {},
     "output_type": "execute_result"
    },
    {
     "data": {
      "text/plain": "<Figure size 432x288 with 1 Axes>",
      "image/png": "[encoded data removed]"
     },
     "metadata": {
      "needs_background": "light"
     },
     "output_type": "display_data"
    }
   ],
   "source": [
    "plt.plot(df_loan_fixed4d5['interest_payment']-df_loan_fixed['interest_payment'],label='interest2.38-interest4.5')\n",
    "plt.legend()"
   ],
   "metadata": {
    "collapsed": false,
    "pycharm": {
     "name": "#%%\n"
    }
   }
  },
  {
   "cell_type": "code",
   "execution_count": 9,
   "outputs": [
    {
     "data": {
      "text/plain": "127553.33333333394"
     },
     "execution_count": 9,
     "metadata": {},
     "output_type": "execute_result"
    }
   ],
   "source": [
    "(df_loan_fixed4d5['interest_payment']-df_loan_fixed['interest_payment']).sum()\n"
   ],
   "metadata": {
    "collapsed": false,
    "pycharm": {
     "name": "#%%\n"
    }
   }
  },
  {
   "cell_type": "code",
   "execution_count": null,
   "outputs": [],
   "source": [],
   "metadata": {
    "collapsed": false,
    "pycharm": {
     "name": "#%%\n"
    }
   }
  }
 ],
 "metadata": {
  "kernelspec": {
   "display_name": "Python 3",
   "language": "python",
   "name": "python3"
  },
  "language_info": {
   "codemirror_mode": {
    "name": "ipython",
    "version": 2
   },
   "file_extension": ".py",
   "mimetype": "text/x-python",
   "name": "python",
   "nbconvert_exporter": "python",
   "pygments_lexer": "ipython2",
   "version": "2.7.6"
  }
 },
 "nbformat": 4,
 "nbformat_minor": 0
}